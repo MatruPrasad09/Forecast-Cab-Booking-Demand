{
  "nbformat": 4,
  "nbformat_minor": 0,
  "metadata": {
    "colab": {
      "name": "Cab_Booking _Demand_Forecast.ipynb",
      "provenance": [],
      "authorship_tag": "ABX9TyMjWEv0+nk4Uerq5/VC4kNF",
      "include_colab_link": true
    },
    "kernelspec": {
      "name": "python3",
      "display_name": "Python 3"
    },
    "language_info": {
      "name": "python"
    },
    "accelerator": "GPU"
  },
  "cells": [
    {
      "cell_type": "markdown",
      "metadata": {
        "id": "view-in-github",
        "colab_type": "text"
      },
      "source": [
        "<a href=\"https://colab.research.google.com/github/MatruPrasad09/Forecast-Cab-Booking-Demand/blob/main/Cab_Booking__Demand_Forecast.ipynb\" target=\"_parent\"><img src=\"https://colab.research.google.com/assets/colab-badge.svg\" alt=\"Open In Colab\"/></a>"
      ]
    },
    {
      "cell_type": "markdown",
      "metadata": {
        "id": "Tpwfuqk7n2dx"
      },
      "source": [
        "# Forecast Cab Booking Demand\n",
        "## Mid-Program Project 1"
      ]
    },
    {
      "cell_type": "markdown",
      "metadata": {
        "id": "vofkpHTI4S9S"
      },
      "source": [
        "## 1. Import the required libraries and load the training and testing dataset "
      ]
    },
    {
      "cell_type": "code",
      "metadata": {
        "id": "ZYaHnh2toBrN"
      },
      "source": [
        "## all imports here\n",
        "\n",
        "import numpy as np\n",
        "import pandas as pd\n",
        "import calendar\n",
        "from scipy import stats\n",
        "import matplotlib.pyplot as plt\n",
        "%matplotlib inline\n",
        "import seaborn as sns\n",
        "\n",
        "from sklearn.model_selection import train_test_split, KFold, GridSearchCV, cross_val_score\n",
        "#Import Regression Models\n",
        "from sklearn.ensemble import RandomForestRegressor, AdaBoostRegressor, BaggingRegressor\n",
        "from sklearn.svm import SVR\n",
        "from sklearn.neighbors import KNeighborsRegressor\n",
        "from xgboost import XGBRegressor\n",
        "\n",
        "#evaluation metrics\n",
        "from sklearn.metrics import mean_absolute_error, mean_squared_error, mean_squared_log_error, accuracy_score\n",
        "\n"
      ],
      "execution_count": null,
      "outputs": []
    },
    {
      "cell_type": "code",
      "metadata": {
        "id": "w_SNbGh3o7IV"
      },
      "source": [
        "##loading training and testing data\n",
        "train_path = \"/content/train.csv\"\n",
        "train_label_path = \"/content/train_label.csv\"\n",
        "test_path = \"/content/test.csv\"\n",
        "test_label_path = \"/content/test_label.csv\"\n",
        "\n",
        "##read data from csv files\n",
        "train = pd.read_csv(train_path)\n",
        "train_label = pd.read_csv(train_label_path, header= None)\n",
        "test = pd.read_csv(test_path)\n",
        "test_label = pd.read_csv(test_label_path, header= None)"
      ],
      "execution_count": null,
      "outputs": []
    },
    {
      "cell_type": "markdown",
      "metadata": {
        "id": "iavkA7Tsrzad"
      },
      "source": [
        "## 2 a. Check the shape of the training and testing set"
      ]
    },
    {
      "cell_type": "code",
      "metadata": {
        "colab": {
          "base_uri": "https://localhost:8080/"
        },
        "id": "tlFtVkUxp69d",
        "outputId": "49334d6d-f4ad-4a06-8316-7226cee572b9"
      },
      "source": [
        "## shape of training and test data\n",
        "print(train.shape)\n",
        "print(train_label.shape)\n",
        "print(test.shape)\n",
        "print(test_label.shape)"
      ],
      "execution_count": null,
      "outputs": [
        {
          "output_type": "stream",
          "name": "stdout",
          "text": [
            "(8708, 9)\n",
            "(8708, 1)\n",
            "(2178, 9)\n",
            "(2178, 1)\n"
          ]
        }
      ]
    },
    {
      "cell_type": "code",
      "metadata": {
        "colab": {
          "base_uri": "https://localhost:8080/"
        },
        "id": "UBJK_ZrkrJgU",
        "outputId": "bfc9f38c-60a1-470f-e16c-1d90fcf38ad5"
      },
      "source": [
        "print(train_label.head())\n",
        "print(test_label.head())\n",
        "train.columns\n",
        "test.columns\n"
      ],
      "execution_count": null,
      "outputs": [
        {
          "output_type": "stream",
          "name": "stdout",
          "text": [
            "     0\n",
            "0  504\n",
            "1    5\n",
            "2  139\n",
            "3  209\n",
            "4  184\n",
            "     0\n",
            "0  256\n",
            "1   87\n",
            "2   11\n",
            "3   84\n",
            "4  668\n"
          ]
        },
        {
          "output_type": "execute_result",
          "data": {
            "text/plain": [
              "Index(['datetime', 'season', 'holiday', 'workingday', 'weather', 'temp',\n",
              "       'atemp', 'humidity', 'windspeed'],\n",
              "      dtype='object')"
            ]
          },
          "metadata": {},
          "execution_count": 6
        }
      ]
    },
    {
      "cell_type": "code",
      "metadata": {
        "id": "J1YiuMv0rkCD"
      },
      "source": [
        "## appending the train_label dataset to train.csv as ‘Total_booking’ column\n",
        "train['Total_booking'] = train_label[0]\n",
        "##similarly for test dataset\n",
        "test['Total_booking'] = test_label[0]"
      ],
      "execution_count": null,
      "outputs": []
    },
    {
      "cell_type": "code",
      "metadata": {
        "colab": {
          "base_uri": "https://localhost:8080/"
        },
        "id": "DluiV_rcsnZ2",
        "outputId": "4af96d8a-9055-41c0-c408-e9d15c5581f0"
      },
      "source": [
        "print(train.head())\n",
        "print('*'* 100)\n",
        "print(test.head())"
      ],
      "execution_count": null,
      "outputs": [
        {
          "output_type": "stream",
          "name": "stdout",
          "text": [
            "           datetime  season  holiday  ...  humidity windspeed  Total_booking\n",
            "0    5/2/2012 19:00  Summer        0  ...        77   16.9979            504\n",
            "1     9/5/2012 4:00    Fall        0  ...        79   19.0012              5\n",
            "2    1/13/2011 9:00  Spring        0  ...        50   22.0028            139\n",
            "3  11/18/2011 16:00  Winter        0  ...        29    8.9981            209\n",
            "4   9/13/2011 13:00    Fall        0  ...        51   19.0012            184\n",
            "\n",
            "[5 rows x 10 columns]\n",
            "****************************************************************************************************\n",
            "           datetime  season  holiday  ...  humidity windspeed  Total_booking\n",
            "0   5/10/2012 11:00  Summer        0  ...        48   35.0008            256\n",
            "1     6/9/2012 7:00  Summer        0  ...        64    7.0015             87\n",
            "2    3/6/2011 20:00  Spring        0  ...       100   27.9993             11\n",
            "3  10/13/2011 11:00  Winter        0  ...        83    0.0000             84\n",
            "4    6/2/2012 12:00  Summer        0  ...        43   23.9994            668\n",
            "\n",
            "[5 rows x 10 columns]\n"
          ]
        }
      ]
    },
    {
      "cell_type": "markdown",
      "metadata": {
        "id": "xZ8qdLFrtFrC"
      },
      "source": [
        "## 2b. Print the data types of each column"
      ]
    },
    {
      "cell_type": "code",
      "metadata": {
        "colab": {
          "base_uri": "https://localhost:8080/"
        },
        "id": "sTwxo53espOC",
        "outputId": "8d044431-f834-4ab5-de6f-45c743524b50"
      },
      "source": [
        "print(train.dtypes)"
      ],
      "execution_count": null,
      "outputs": [
        {
          "output_type": "stream",
          "name": "stdout",
          "text": [
            "datetime          object\n",
            "season            object\n",
            "holiday            int64\n",
            "workingday         int64\n",
            "weather           object\n",
            "temp             float64\n",
            "atemp            float64\n",
            "humidity           int64\n",
            "windspeed        float64\n",
            "Total_booking      int64\n",
            "dtype: object\n"
          ]
        }
      ]
    },
    {
      "cell_type": "markdown",
      "metadata": {
        "id": "8EQQdJrEtL0N"
      },
      "source": [
        "## 2c. Check the missing values present in the dataset"
      ]
    },
    {
      "cell_type": "code",
      "metadata": {
        "colab": {
          "base_uri": "https://localhost:8080/"
        },
        "id": "VMv8z3Hgswn9",
        "outputId": "12b8f664-dc32-4168-ffff-85844fb2d8a9"
      },
      "source": [
        "print(train.isna().sum())\n",
        "print('*'* 100)\n",
        "print(test.isna().sum())"
      ],
      "execution_count": null,
      "outputs": [
        {
          "output_type": "stream",
          "name": "stdout",
          "text": [
            "datetime         0\n",
            "season           0\n",
            "holiday          0\n",
            "workingday       0\n",
            "weather          0\n",
            "temp             0\n",
            "atemp            0\n",
            "humidity         0\n",
            "windspeed        0\n",
            "Total_booking    0\n",
            "dtype: int64\n",
            "****************************************************************************************************\n",
            "datetime         0\n",
            "season           0\n",
            "holiday          0\n",
            "workingday       0\n",
            "weather          0\n",
            "temp             0\n",
            "atemp            0\n",
            "humidity         0\n",
            "windspeed        0\n",
            "Total_booking    0\n",
            "dtype: int64\n"
          ]
        }
      ]
    },
    {
      "cell_type": "markdown",
      "metadata": {
        "id": "JZ4I7-pEuyBf"
      },
      "source": [
        "# 3. Feature Engineering\n",
        "\n",
        "a. Create new columns date, hour, weekDay, month from datetime column\n",
        "\n",
        "b. Coerce the datatype of season, holiday, workingday, and weather to category\n",
        "\n",
        "c. Drop the datetime column as we have already extracted useful features from it"
      ]
    },
    {
      "cell_type": "code",
      "metadata": {
        "id": "4XzXiUuku2yE"
      },
      "source": [
        "# train['datetime'] = train['datetime'].str.replace('/' , '-')\n",
        "# train['date'] = train.datetime.apply(lambda x : x.split()[0])\n",
        "# train['hour'] = train.datetime.apply(lambda x : x.split()[1].split(\":\")[0])\n",
        "\n",
        "##convert datetime series to datetime object\n",
        "train['datetime'] = pd.to_datetime(train['datetime'])\n",
        "test['datetime'] = pd.to_datetime(test['datetime'])\n",
        "\n",
        "##Create new columns date, hour, weekDay, month from datetime column for both train and test dataset \n",
        "##Ref: https://pandas.pydata.org/pandas-docs/stable/reference/api/pandas.Series.dt.day_name.html\n",
        "train['date'] = train.datetime.dt.date\n",
        "train['hour'] = train.datetime.dt.hour\n",
        "train['weekDay'] = train.datetime.dt.day_name()\n",
        "train['month'] = train.datetime.dt.month_name()\n",
        "\n",
        "test['date'] = test.datetime.dt.date\n",
        "test['hour'] = test.datetime.dt.hour\n",
        "test['weekDay'] = test.datetime.dt.day_name()\n",
        "test['month'] = test.datetime.dt.month_name()\n"
      ],
      "execution_count": null,
      "outputs": []
    },
    {
      "cell_type": "code",
      "metadata": {
        "colab": {
          "base_uri": "https://localhost:8080/",
          "height": 293
        },
        "id": "Z1K8H7yMwgas",
        "outputId": "10b8fdf0-6543-4634-a468-f7f93cf67784"
      },
      "source": [
        "train.head()"
      ],
      "execution_count": null,
      "outputs": [
        {
          "output_type": "execute_result",
          "data": {
            "text/html": [
              "<div>\n",
              "<style scoped>\n",
              "    .dataframe tbody tr th:only-of-type {\n",
              "        vertical-align: middle;\n",
              "    }\n",
              "\n",
              "    .dataframe tbody tr th {\n",
              "        vertical-align: top;\n",
              "    }\n",
              "\n",
              "    .dataframe thead th {\n",
              "        text-align: right;\n",
              "    }\n",
              "</style>\n",
              "<table border=\"1\" class=\"dataframe\">\n",
              "  <thead>\n",
              "    <tr style=\"text-align: right;\">\n",
              "      <th></th>\n",
              "      <th>datetime</th>\n",
              "      <th>season</th>\n",
              "      <th>holiday</th>\n",
              "      <th>workingday</th>\n",
              "      <th>weather</th>\n",
              "      <th>temp</th>\n",
              "      <th>atemp</th>\n",
              "      <th>humidity</th>\n",
              "      <th>windspeed</th>\n",
              "      <th>Total_booking</th>\n",
              "      <th>date</th>\n",
              "      <th>hour</th>\n",
              "      <th>weekDay</th>\n",
              "      <th>month</th>\n",
              "    </tr>\n",
              "  </thead>\n",
              "  <tbody>\n",
              "    <tr>\n",
              "      <th>0</th>\n",
              "      <td>2012-05-02 19:00:00</td>\n",
              "      <td>Summer</td>\n",
              "      <td>0</td>\n",
              "      <td>1</td>\n",
              "      <td>Clear + Few clouds</td>\n",
              "      <td>22.14</td>\n",
              "      <td>25.760</td>\n",
              "      <td>77</td>\n",
              "      <td>16.9979</td>\n",
              "      <td>504</td>\n",
              "      <td>2012-05-02</td>\n",
              "      <td>19</td>\n",
              "      <td>Wednesday</td>\n",
              "      <td>May</td>\n",
              "    </tr>\n",
              "    <tr>\n",
              "      <th>1</th>\n",
              "      <td>2012-09-05 04:00:00</td>\n",
              "      <td>Fall</td>\n",
              "      <td>0</td>\n",
              "      <td>1</td>\n",
              "      <td>Clear + Few clouds</td>\n",
              "      <td>28.70</td>\n",
              "      <td>33.335</td>\n",
              "      <td>79</td>\n",
              "      <td>19.0012</td>\n",
              "      <td>5</td>\n",
              "      <td>2012-09-05</td>\n",
              "      <td>4</td>\n",
              "      <td>Wednesday</td>\n",
              "      <td>September</td>\n",
              "    </tr>\n",
              "    <tr>\n",
              "      <th>2</th>\n",
              "      <td>2011-01-13 09:00:00</td>\n",
              "      <td>Spring</td>\n",
              "      <td>0</td>\n",
              "      <td>1</td>\n",
              "      <td>Clear + Few clouds</td>\n",
              "      <td>5.74</td>\n",
              "      <td>6.060</td>\n",
              "      <td>50</td>\n",
              "      <td>22.0028</td>\n",
              "      <td>139</td>\n",
              "      <td>2011-01-13</td>\n",
              "      <td>9</td>\n",
              "      <td>Thursday</td>\n",
              "      <td>January</td>\n",
              "    </tr>\n",
              "    <tr>\n",
              "      <th>3</th>\n",
              "      <td>2011-11-18 16:00:00</td>\n",
              "      <td>Winter</td>\n",
              "      <td>0</td>\n",
              "      <td>1</td>\n",
              "      <td>Clear + Few clouds</td>\n",
              "      <td>13.94</td>\n",
              "      <td>16.665</td>\n",
              "      <td>29</td>\n",
              "      <td>8.9981</td>\n",
              "      <td>209</td>\n",
              "      <td>2011-11-18</td>\n",
              "      <td>16</td>\n",
              "      <td>Friday</td>\n",
              "      <td>November</td>\n",
              "    </tr>\n",
              "    <tr>\n",
              "      <th>4</th>\n",
              "      <td>2011-09-13 13:00:00</td>\n",
              "      <td>Fall</td>\n",
              "      <td>0</td>\n",
              "      <td>1</td>\n",
              "      <td>Clear + Few clouds</td>\n",
              "      <td>30.34</td>\n",
              "      <td>33.335</td>\n",
              "      <td>51</td>\n",
              "      <td>19.0012</td>\n",
              "      <td>184</td>\n",
              "      <td>2011-09-13</td>\n",
              "      <td>13</td>\n",
              "      <td>Tuesday</td>\n",
              "      <td>September</td>\n",
              "    </tr>\n",
              "  </tbody>\n",
              "</table>\n",
              "</div>"
            ],
            "text/plain": [
              "             datetime  season  holiday  ...  hour    weekDay      month\n",
              "0 2012-05-02 19:00:00  Summer        0  ...    19  Wednesday        May\n",
              "1 2012-09-05 04:00:00    Fall        0  ...     4  Wednesday  September\n",
              "2 2011-01-13 09:00:00  Spring        0  ...     9   Thursday    January\n",
              "3 2011-11-18 16:00:00  Winter        0  ...    16     Friday   November\n",
              "4 2011-09-13 13:00:00    Fall        0  ...    13    Tuesday  September\n",
              "\n",
              "[5 rows x 14 columns]"
            ]
          },
          "metadata": {},
          "execution_count": 12
        }
      ]
    },
    {
      "cell_type": "code",
      "metadata": {
        "colab": {
          "base_uri": "https://localhost:8080/",
          "height": 293
        },
        "id": "f7652VaPwjqc",
        "outputId": "7880ea63-e379-4e0d-d308-db4e0dcd79fe"
      },
      "source": [
        "test.head()"
      ],
      "execution_count": null,
      "outputs": [
        {
          "output_type": "execute_result",
          "data": {
            "text/html": [
              "<div>\n",
              "<style scoped>\n",
              "    .dataframe tbody tr th:only-of-type {\n",
              "        vertical-align: middle;\n",
              "    }\n",
              "\n",
              "    .dataframe tbody tr th {\n",
              "        vertical-align: top;\n",
              "    }\n",
              "\n",
              "    .dataframe thead th {\n",
              "        text-align: right;\n",
              "    }\n",
              "</style>\n",
              "<table border=\"1\" class=\"dataframe\">\n",
              "  <thead>\n",
              "    <tr style=\"text-align: right;\">\n",
              "      <th></th>\n",
              "      <th>datetime</th>\n",
              "      <th>season</th>\n",
              "      <th>holiday</th>\n",
              "      <th>workingday</th>\n",
              "      <th>weather</th>\n",
              "      <th>temp</th>\n",
              "      <th>atemp</th>\n",
              "      <th>humidity</th>\n",
              "      <th>windspeed</th>\n",
              "      <th>Total_booking</th>\n",
              "      <th>date</th>\n",
              "      <th>hour</th>\n",
              "      <th>weekDay</th>\n",
              "      <th>month</th>\n",
              "    </tr>\n",
              "  </thead>\n",
              "  <tbody>\n",
              "    <tr>\n",
              "      <th>0</th>\n",
              "      <td>2012-05-10 11:00:00</td>\n",
              "      <td>Summer</td>\n",
              "      <td>0</td>\n",
              "      <td>1</td>\n",
              "      <td>Clear + Few clouds</td>\n",
              "      <td>21.32</td>\n",
              "      <td>25.000</td>\n",
              "      <td>48</td>\n",
              "      <td>35.0008</td>\n",
              "      <td>256</td>\n",
              "      <td>2012-05-10</td>\n",
              "      <td>11</td>\n",
              "      <td>Thursday</td>\n",
              "      <td>May</td>\n",
              "    </tr>\n",
              "    <tr>\n",
              "      <th>1</th>\n",
              "      <td>2012-06-09 07:00:00</td>\n",
              "      <td>Summer</td>\n",
              "      <td>0</td>\n",
              "      <td>0</td>\n",
              "      <td>Clear + Few clouds</td>\n",
              "      <td>23.78</td>\n",
              "      <td>27.275</td>\n",
              "      <td>64</td>\n",
              "      <td>7.0015</td>\n",
              "      <td>87</td>\n",
              "      <td>2012-06-09</td>\n",
              "      <td>7</td>\n",
              "      <td>Saturday</td>\n",
              "      <td>June</td>\n",
              "    </tr>\n",
              "    <tr>\n",
              "      <th>2</th>\n",
              "      <td>2011-03-06 20:00:00</td>\n",
              "      <td>Spring</td>\n",
              "      <td>0</td>\n",
              "      <td>0</td>\n",
              "      <td>Light Snow, Light Rain</td>\n",
              "      <td>11.48</td>\n",
              "      <td>12.120</td>\n",
              "      <td>100</td>\n",
              "      <td>27.9993</td>\n",
              "      <td>11</td>\n",
              "      <td>2011-03-06</td>\n",
              "      <td>20</td>\n",
              "      <td>Sunday</td>\n",
              "      <td>March</td>\n",
              "    </tr>\n",
              "    <tr>\n",
              "      <th>3</th>\n",
              "      <td>2011-10-13 11:00:00</td>\n",
              "      <td>Winter</td>\n",
              "      <td>0</td>\n",
              "      <td>1</td>\n",
              "      <td>Mist + Cloudy</td>\n",
              "      <td>25.42</td>\n",
              "      <td>28.790</td>\n",
              "      <td>83</td>\n",
              "      <td>0.0000</td>\n",
              "      <td>84</td>\n",
              "      <td>2011-10-13</td>\n",
              "      <td>11</td>\n",
              "      <td>Thursday</td>\n",
              "      <td>October</td>\n",
              "    </tr>\n",
              "    <tr>\n",
              "      <th>4</th>\n",
              "      <td>2012-06-02 12:00:00</td>\n",
              "      <td>Summer</td>\n",
              "      <td>0</td>\n",
              "      <td>0</td>\n",
              "      <td>Clear + Few clouds</td>\n",
              "      <td>25.42</td>\n",
              "      <td>31.060</td>\n",
              "      <td>43</td>\n",
              "      <td>23.9994</td>\n",
              "      <td>668</td>\n",
              "      <td>2012-06-02</td>\n",
              "      <td>12</td>\n",
              "      <td>Saturday</td>\n",
              "      <td>June</td>\n",
              "    </tr>\n",
              "  </tbody>\n",
              "</table>\n",
              "</div>"
            ],
            "text/plain": [
              "             datetime  season  holiday  ...  hour   weekDay    month\n",
              "0 2012-05-10 11:00:00  Summer        0  ...    11  Thursday      May\n",
              "1 2012-06-09 07:00:00  Summer        0  ...     7  Saturday     June\n",
              "2 2011-03-06 20:00:00  Spring        0  ...    20    Sunday    March\n",
              "3 2011-10-13 11:00:00  Winter        0  ...    11  Thursday  October\n",
              "4 2012-06-02 12:00:00  Summer        0  ...    12  Saturday     June\n",
              "\n",
              "[5 rows x 14 columns]"
            ]
          },
          "metadata": {},
          "execution_count": 13
        }
      ]
    },
    {
      "cell_type": "code",
      "metadata": {
        "id": "7NEts7WvdpYB"
      },
      "source": [
        "## coerce the datatype of season, holiday, workingday and weather to category\n",
        "categorical_cols = ['season', 'holiday', 'workingday', 'weather']\n",
        "for col in categorical_cols:\n",
        "  train[col] = train[col].astype('category')\n",
        "  test[col] = test[col].astype('category')"
      ],
      "execution_count": null,
      "outputs": []
    },
    {
      "cell_type": "code",
      "metadata": {
        "colab": {
          "base_uri": "https://localhost:8080/"
        },
        "id": "GEMK60elfSKm",
        "outputId": "23e92f9e-5bfd-4928-e30f-7604ecf3e2b4"
      },
      "source": [
        "train.dtypes"
      ],
      "execution_count": null,
      "outputs": [
        {
          "output_type": "execute_result",
          "data": {
            "text/plain": [
              "datetime         datetime64[ns]\n",
              "season                 category\n",
              "holiday                category\n",
              "workingday             category\n",
              "weather                category\n",
              "temp                    float64\n",
              "atemp                   float64\n",
              "humidity                  int64\n",
              "windspeed               float64\n",
              "Total_booking             int64\n",
              "date                     object\n",
              "hour                      int64\n",
              "weekDay                  object\n",
              "month                    object\n",
              "dtype: object"
            ]
          },
          "metadata": {},
          "execution_count": 15
        }
      ]
    },
    {
      "cell_type": "code",
      "metadata": {
        "id": "7bR7QOKCfU6d"
      },
      "source": [
        "##drop the datetime column as we have already extracted useful features from it\n",
        "train = train.drop('datetime', axis=1)\n",
        "test = test.drop('datetime', axis=1)\n"
      ],
      "execution_count": null,
      "outputs": []
    },
    {
      "cell_type": "code",
      "metadata": {
        "colab": {
          "base_uri": "https://localhost:8080/",
          "height": 206
        },
        "id": "iXXRM_KVi5p4",
        "outputId": "1a815d1f-5f13-4e3a-f89c-329f694870b7"
      },
      "source": [
        "train.head()"
      ],
      "execution_count": null,
      "outputs": [
        {
          "output_type": "execute_result",
          "data": {
            "text/html": [
              "<div>\n",
              "<style scoped>\n",
              "    .dataframe tbody tr th:only-of-type {\n",
              "        vertical-align: middle;\n",
              "    }\n",
              "\n",
              "    .dataframe tbody tr th {\n",
              "        vertical-align: top;\n",
              "    }\n",
              "\n",
              "    .dataframe thead th {\n",
              "        text-align: right;\n",
              "    }\n",
              "</style>\n",
              "<table border=\"1\" class=\"dataframe\">\n",
              "  <thead>\n",
              "    <tr style=\"text-align: right;\">\n",
              "      <th></th>\n",
              "      <th>season</th>\n",
              "      <th>holiday</th>\n",
              "      <th>workingday</th>\n",
              "      <th>weather</th>\n",
              "      <th>temp</th>\n",
              "      <th>atemp</th>\n",
              "      <th>humidity</th>\n",
              "      <th>windspeed</th>\n",
              "      <th>Total_booking</th>\n",
              "      <th>date</th>\n",
              "      <th>hour</th>\n",
              "      <th>weekDay</th>\n",
              "      <th>month</th>\n",
              "    </tr>\n",
              "  </thead>\n",
              "  <tbody>\n",
              "    <tr>\n",
              "      <th>0</th>\n",
              "      <td>Summer</td>\n",
              "      <td>0</td>\n",
              "      <td>1</td>\n",
              "      <td>Clear + Few clouds</td>\n",
              "      <td>22.14</td>\n",
              "      <td>25.760</td>\n",
              "      <td>77</td>\n",
              "      <td>16.9979</td>\n",
              "      <td>504</td>\n",
              "      <td>2012-05-02</td>\n",
              "      <td>19</td>\n",
              "      <td>Wednesday</td>\n",
              "      <td>May</td>\n",
              "    </tr>\n",
              "    <tr>\n",
              "      <th>1</th>\n",
              "      <td>Fall</td>\n",
              "      <td>0</td>\n",
              "      <td>1</td>\n",
              "      <td>Clear + Few clouds</td>\n",
              "      <td>28.70</td>\n",
              "      <td>33.335</td>\n",
              "      <td>79</td>\n",
              "      <td>19.0012</td>\n",
              "      <td>5</td>\n",
              "      <td>2012-09-05</td>\n",
              "      <td>4</td>\n",
              "      <td>Wednesday</td>\n",
              "      <td>September</td>\n",
              "    </tr>\n",
              "    <tr>\n",
              "      <th>2</th>\n",
              "      <td>Spring</td>\n",
              "      <td>0</td>\n",
              "      <td>1</td>\n",
              "      <td>Clear + Few clouds</td>\n",
              "      <td>5.74</td>\n",
              "      <td>6.060</td>\n",
              "      <td>50</td>\n",
              "      <td>22.0028</td>\n",
              "      <td>139</td>\n",
              "      <td>2011-01-13</td>\n",
              "      <td>9</td>\n",
              "      <td>Thursday</td>\n",
              "      <td>January</td>\n",
              "    </tr>\n",
              "    <tr>\n",
              "      <th>3</th>\n",
              "      <td>Winter</td>\n",
              "      <td>0</td>\n",
              "      <td>1</td>\n",
              "      <td>Clear + Few clouds</td>\n",
              "      <td>13.94</td>\n",
              "      <td>16.665</td>\n",
              "      <td>29</td>\n",
              "      <td>8.9981</td>\n",
              "      <td>209</td>\n",
              "      <td>2011-11-18</td>\n",
              "      <td>16</td>\n",
              "      <td>Friday</td>\n",
              "      <td>November</td>\n",
              "    </tr>\n",
              "    <tr>\n",
              "      <th>4</th>\n",
              "      <td>Fall</td>\n",
              "      <td>0</td>\n",
              "      <td>1</td>\n",
              "      <td>Clear + Few clouds</td>\n",
              "      <td>30.34</td>\n",
              "      <td>33.335</td>\n",
              "      <td>51</td>\n",
              "      <td>19.0012</td>\n",
              "      <td>184</td>\n",
              "      <td>2011-09-13</td>\n",
              "      <td>13</td>\n",
              "      <td>Tuesday</td>\n",
              "      <td>September</td>\n",
              "    </tr>\n",
              "  </tbody>\n",
              "</table>\n",
              "</div>"
            ],
            "text/plain": [
              "   season holiday workingday  ... hour    weekDay      month\n",
              "0  Summer       0          1  ...   19  Wednesday        May\n",
              "1    Fall       0          1  ...    4  Wednesday  September\n",
              "2  Spring       0          1  ...    9   Thursday    January\n",
              "3  Winter       0          1  ...   16     Friday   November\n",
              "4    Fall       0          1  ...   13    Tuesday  September\n",
              "\n",
              "[5 rows x 13 columns]"
            ]
          },
          "metadata": {},
          "execution_count": 17
        }
      ]
    },
    {
      "cell_type": "markdown",
      "metadata": {
        "id": "bDHN3t22j4Be"
      },
      "source": [
        "## **4. Perform Outlier Analysis:**\n",
        "\n",
        "a. Plot Box plots across various features like season, hour of the day, working_day, etc\n",
        "to see if there are any Outlier and note down your inference\n",
        "\n",
        "b. Remove the outliers present in the dataset"
      ]
    },
    {
      "cell_type": "code",
      "metadata": {
        "colab": {
          "base_uri": "https://localhost:8080/",
          "height": 638
        },
        "id": "MNl2bR0vkEIG",
        "outputId": "5197ee44-8554-46fd-b6a1-c7fda4b1d60c"
      },
      "source": [
        "fig, axes = plt.subplots(nrows=2, ncols=2)\n",
        "fig.set_size_inches(12, 10)\n",
        "sns.boxplot(y='Total_booking', data=train, ax=axes[0][0]).set(title = 'Box plot of Total booking')\n",
        "sns.boxplot(x='season', y='Total_booking', data=train, ax=axes[0][1]).set(title = 'Box plot of Total booking across seasons')\n",
        "sns.boxplot(x='hour', y='Total_booking', data=train, ax=axes[1][0]).set(title = 'Box plot of Total booking across hour of the day')\n",
        "sns.boxplot(x='workingday', y='Total_booking', data=train, ax=axes[1][1]).set(title = 'Box plot of Total booking across working day')"
      ],
      "execution_count": null,
      "outputs": [
        {
          "output_type": "execute_result",
          "data": {
            "text/plain": [
              "[Text(0.5, 1.0, 'Box plot of Total booking across working day')]"
            ]
          },
          "metadata": {},
          "execution_count": 18
        },
        {
          "output_type": "display_data",
          "data": {
            "image/png": "[encoded data removed]",
            "text/plain": [
              "<Figure size 864x720 with 4 Axes>"
            ]
          },
          "metadata": {
            "needs_background": "light"
          }
        }
      ]
    },
    {
      "cell_type": "markdown",
      "metadata": {
        "id": "UNAVx8LPww3P"
      },
      "source": [
        "Inference made from above box plots:\n",
        "\n",
        "\n",
        "\n",
        "*   The total number of bookings made in Spring season is relatively lower than others.\n",
        "*   There is a peak in bookings made between 7am-8am and 5pm-6pm, this surge could be due to regular school and office hours.\n",
        "*   Number of outliers in working day is more than in a non-working day\n",
        "\n",
        "\n",
        "\n",
        "\n"
      ]
    },
    {
      "cell_type": "code",
      "metadata": {
        "colab": {
          "base_uri": "https://localhost:8080/",
          "height": 258
        },
        "id": "MpXbOrCrunh1",
        "outputId": "34eb9a34-0adf-445f-d1a6-3d2e07e049ff"
      },
      "source": [
        "##Removing Outliers\n",
        "##USING STATS FROM SCIPY\n",
        "# z_scores = stats.zscore(train)\n",
        "# abs_z_scores = np.abs(z_scores)\n",
        "# filtered_entries = (abs_z_scores < 3).all(axis=1)\n",
        "# train_without_outlier = train[filtered_entries]\n",
        "\n",
        "\n",
        "##USING THE FORMULA DIRECTLY\n",
        "## keeps only the values that are within +3 to -3 standard deviations in the column 'Total_booking'.\n",
        "train_without_outlier = train[np.abs(train.Total_booking-train.Total_booking.mean()) <= (3*train.Total_booking.std())]\n",
        "\n",
        "print(train.shape)\n",
        "print(test.shape)\n",
        "print(train_without_outlier.shape)\n",
        "train_without_outlier.head()"
      ],
      "execution_count": null,
      "outputs": [
        {
          "output_type": "stream",
          "name": "stdout",
          "text": [
            "(8708, 13)\n",
            "(2178, 13)\n",
            "(8591, 13)\n"
          ]
        },
        {
          "output_type": "execute_result",
          "data": {
            "text/html": [
              "<div>\n",
              "<style scoped>\n",
              "    .dataframe tbody tr th:only-of-type {\n",
              "        vertical-align: middle;\n",
              "    }\n",
              "\n",
              "    .dataframe tbody tr th {\n",
              "        vertical-align: top;\n",
              "    }\n",
              "\n",
              "    .dataframe thead th {\n",
              "        text-align: right;\n",
              "    }\n",
              "</style>\n",
              "<table border=\"1\" class=\"dataframe\">\n",
              "  <thead>\n",
              "    <tr style=\"text-align: right;\">\n",
              "      <th></th>\n",
              "      <th>season</th>\n",
              "      <th>holiday</th>\n",
              "      <th>workingday</th>\n",
              "      <th>weather</th>\n",
              "      <th>temp</th>\n",
              "      <th>atemp</th>\n",
              "      <th>humidity</th>\n",
              "      <th>windspeed</th>\n",
              "      <th>Total_booking</th>\n",
              "      <th>date</th>\n",
              "      <th>hour</th>\n",
              "      <th>weekDay</th>\n",
              "      <th>month</th>\n",
              "    </tr>\n",
              "  </thead>\n",
              "  <tbody>\n",
              "    <tr>\n",
              "      <th>0</th>\n",
              "      <td>Summer</td>\n",
              "      <td>0</td>\n",
              "      <td>1</td>\n",
              "      <td>Clear + Few clouds</td>\n",
              "      <td>22.14</td>\n",
              "      <td>25.760</td>\n",
              "      <td>77</td>\n",
              "      <td>16.9979</td>\n",
              "      <td>504</td>\n",
              "      <td>2012-05-02</td>\n",
              "      <td>19</td>\n",
              "      <td>Wednesday</td>\n",
              "      <td>May</td>\n",
              "    </tr>\n",
              "    <tr>\n",
              "      <th>1</th>\n",
              "      <td>Fall</td>\n",
              "      <td>0</td>\n",
              "      <td>1</td>\n",
              "      <td>Clear + Few clouds</td>\n",
              "      <td>28.70</td>\n",
              "      <td>33.335</td>\n",
              "      <td>79</td>\n",
              "      <td>19.0012</td>\n",
              "      <td>5</td>\n",
              "      <td>2012-09-05</td>\n",
              "      <td>4</td>\n",
              "      <td>Wednesday</td>\n",
              "      <td>September</td>\n",
              "    </tr>\n",
              "    <tr>\n",
              "      <th>2</th>\n",
              "      <td>Spring</td>\n",
              "      <td>0</td>\n",
              "      <td>1</td>\n",
              "      <td>Clear + Few clouds</td>\n",
              "      <td>5.74</td>\n",
              "      <td>6.060</td>\n",
              "      <td>50</td>\n",
              "      <td>22.0028</td>\n",
              "      <td>139</td>\n",
              "      <td>2011-01-13</td>\n",
              "      <td>9</td>\n",
              "      <td>Thursday</td>\n",
              "      <td>January</td>\n",
              "    </tr>\n",
              "    <tr>\n",
              "      <th>3</th>\n",
              "      <td>Winter</td>\n",
              "      <td>0</td>\n",
              "      <td>1</td>\n",
              "      <td>Clear + Few clouds</td>\n",
              "      <td>13.94</td>\n",
              "      <td>16.665</td>\n",
              "      <td>29</td>\n",
              "      <td>8.9981</td>\n",
              "      <td>209</td>\n",
              "      <td>2011-11-18</td>\n",
              "      <td>16</td>\n",
              "      <td>Friday</td>\n",
              "      <td>November</td>\n",
              "    </tr>\n",
              "    <tr>\n",
              "      <th>4</th>\n",
              "      <td>Fall</td>\n",
              "      <td>0</td>\n",
              "      <td>1</td>\n",
              "      <td>Clear + Few clouds</td>\n",
              "      <td>30.34</td>\n",
              "      <td>33.335</td>\n",
              "      <td>51</td>\n",
              "      <td>19.0012</td>\n",
              "      <td>184</td>\n",
              "      <td>2011-09-13</td>\n",
              "      <td>13</td>\n",
              "      <td>Tuesday</td>\n",
              "      <td>September</td>\n",
              "    </tr>\n",
              "  </tbody>\n",
              "</table>\n",
              "</div>"
            ],
            "text/plain": [
              "   season holiday workingday  ... hour    weekDay      month\n",
              "0  Summer       0          1  ...   19  Wednesday        May\n",
              "1    Fall       0          1  ...    4  Wednesday  September\n",
              "2  Spring       0          1  ...    9   Thursday    January\n",
              "3  Winter       0          1  ...   16     Friday   November\n",
              "4    Fall       0          1  ...   13    Tuesday  September\n",
              "\n",
              "[5 rows x 13 columns]"
            ]
          },
          "metadata": {},
          "execution_count": 19
        }
      ]
    },
    {
      "cell_type": "code",
      "metadata": {
        "id": "nl2NsfvvtqeA",
        "colab": {
          "base_uri": "https://localhost:8080/"
        },
        "outputId": "e9a8263c-42dd-4302-ba21-9b641b082be5"
      },
      "source": [
        "train_without_outlier['weekDay'].value_counts()\n",
        "# train_without_outlier['season'].value_counts()\n"
      ],
      "execution_count": null,
      "outputs": [
        {
          "output_type": "execute_result",
          "data": {
            "text/plain": [
              "Saturday     1272\n",
              "Sunday       1261\n",
              "Monday       1230\n",
              "Thursday     1218\n",
              "Friday       1211\n",
              "Tuesday      1206\n",
              "Wednesday    1193\n",
              "Name: weekDay, dtype: int64"
            ]
          },
          "metadata": {},
          "execution_count": 21
        }
      ]
    },
    {
      "cell_type": "code",
      "metadata": {
        "colab": {
          "base_uri": "https://localhost:8080/"
        },
        "id": "C0cCtUBSFQDG",
        "outputId": "6f2e395d-6b3c-4b5d-de01-06cc96840007"
      },
      "source": [
        "train_without_outlier.dtypes"
      ],
      "execution_count": null,
      "outputs": [
        {
          "output_type": "execute_result",
          "data": {
            "text/plain": [
              "season           category\n",
              "holiday          category\n",
              "workingday       category\n",
              "weather          category\n",
              "temp              float64\n",
              "atemp             float64\n",
              "humidity            int64\n",
              "windspeed         float64\n",
              "Total_booking       int64\n",
              "date               object\n",
              "hour                int64\n",
              "weekDay            object\n",
              "month              object\n",
              "dtype: object"
            ]
          },
          "metadata": {},
          "execution_count": 22
        }
      ]
    },
    {
      "cell_type": "markdown",
      "metadata": {
        "id": "yKbGRUcJHuk-"
      },
      "source": [
        "# 5. Perform Correlation Analysis:\n",
        "a. Plot a correlation plot between \"total booking\" and [\"temp\", \"atemp\", \"humidity\",\n",
        "\"windspeed\"]\n",
        "\n",
        "b. Write down your inference in the markdown cell"
      ]
    },
    {
      "cell_type": "code",
      "metadata": {
        "colab": {
          "base_uri": "https://localhost:8080/",
          "height": 559
        },
        "id": "lJT8dheWGPGM",
        "outputId": "4e8c6900-56b3-4fbb-87af-815fcf1d0dcc"
      },
      "source": [
        "corr_matrix = train_without_outlier[[\"temp\", \"atemp\", \"humidity\", \"windspeed\", \"Total_booking\"]].corr()\n",
        "mask = np.array(corr_matrix)\n",
        "mask[np.tril_indices_from(mask)] = False\n",
        "fig,ax = plt.subplots(figsize=(11, 9))\n",
        "cmap = sns.diverging_palette(230, 20, as_cmap=True)\n",
        "sns.heatmap(corr_matrix, mask=mask, cmap=cmap, vmax=.8, center=0,\n",
        "            square=True, annot=True, linewidths=.5)"
      ],
      "execution_count": null,
      "outputs": [
        {
          "output_type": "execute_result",
          "data": {
            "text/plain": [
              "<matplotlib.axes._subplots.AxesSubplot at 0x7fd9321aa310>"
            ]
          },
          "metadata": {},
          "execution_count": 23
        },
        {
          "output_type": "display_data",
          "data": {
            "image/png": "[encoded data removed]",
            "text/plain": [
              "<Figure size 792x648 with 2 Axes>"
            ]
          },
          "metadata": {
            "needs_background": "light"
          }
        }
      ]
    },
    {
      "cell_type": "markdown",
      "metadata": {
        "id": "wX0lcNBwSjA2"
      },
      "source": [
        "## Inference from Correlation plot above:\n",
        "\n",
        "*   atemp and temp have very postive correlation, so we can drop one of them during model building to avoid multi-collinearity in the data.\n",
        "*   temp and humidity has positive and negative correlation with Total_booking, although not much significant. \n",
        "*   Windspeed has very less correlation with Total_booking, hence it's not of much use.\n",
        "\n"
      ]
    },
    {
      "cell_type": "markdown",
      "metadata": {
        "id": "Pfx5HtwfVFMX"
      },
      "source": [
        "## 6. Perform Data Visualization: \n",
        "a. Visualize distribution of data: total_booking column and plot the probability distribution plot for the column as well\n",
        "\n",
        "b. Visualize total_booking vs (Month, Season, Hour, Weekday, Usertype)\n",
        "\n",
        "c. Use Histograms to plot all the continuous variables present in the data"
      ]
    },
    {
      "cell_type": "code",
      "metadata": {
        "colab": {
          "base_uri": "https://localhost:8080/",
          "height": 709
        },
        "id": "mrj4bEn_VaGo",
        "outputId": "4d2d5d2e-86c0-4960-dbed-0dba979de14b"
      },
      "source": [
        "##Visualize data distribution for Total_booking column\n",
        "\n",
        "fig, axes = plt.subplots(ncols=2, nrows=2)\n",
        "fig.set_size_inches(12, 10)\n",
        "sns.histplot(train_without_outlier['Total_booking'], kde=True, ax=axes[0][0])\n",
        "stats.probplot(train_without_outlier['Total_booking'], fit=True, plot=axes[0][1])\n",
        "sns.histplot(np.log(train_without_outlier['Total_booking']), kde=True, ax=axes[1][0])\n",
        "stats.probplot(np.log(train_without_outlier['Total_booking']), fit=True, plot=axes[1][1])"
      ],
      "execution_count": null,
      "outputs": [
        {
          "output_type": "execute_result",
          "data": {
            "text/plain": [
              "((array([-3.77290246, -3.54563229, -3.42075996, ...,  3.42075996,\n",
              "          3.54563229,  3.77290246]),\n",
              "  array([0.        , 0.        , 0.        , ..., 6.5971457 , 6.60258789,\n",
              "         6.60258789])),\n",
              " (1.4051607785863067, 4.535872940407394, 0.9530345295109863))"
            ]
          },
          "metadata": {},
          "execution_count": 24
        },
        {
          "output_type": "display_data",
          "data": {
            "image/png": "[encoded data removed]",
            "text/plain": [
              "<Figure size 864x720 with 4 Axes>"
            ]
          },
          "metadata": {
            "needs_background": "light"
          }
        }
      ]
    },
    {
      "cell_type": "code",
      "metadata": {
        "colab": {
          "base_uri": "https://localhost:8080/",
          "height": 1000
        },
        "id": "__RE_c7FTudt",
        "outputId": "c410535c-b2fe-455f-8ef9-de773192c211"
      },
      "source": [
        "##visualize total_booking vs (Month, Season, Hour, Weekday, Usertype)\n",
        "fig, axes = plt.subplots(nrows=4)\n",
        "fig.set_size_inches(12, 25)\n",
        "sortOrder= ['January', 'February', 'March', 'April', 'May', 'June', 'July', 'August', 'September', 'October', 'November', 'December']\n",
        "hueOrder = ['Monday', 'Tuesday', 'Wednesday', 'Thursday', 'Friday', 'Saturday', 'Sunday']\n",
        "sns.barplot(x='month', y='Total_booking', data=train_without_outlier, order=sortOrder, ax=axes[0])\n",
        "sns.barplot(x='hour', y='Total_booking', data=train_without_outlier, ax=axes[1])\n",
        "sns.pointplot(x='hour', y='Total_booking', hue='weekDay', data=train_without_outlier, ax=axes[2])\n",
        "sns.pointplot(x='hour', y='Total_booking', hue='season', data=train_without_outlier, ax=axes[3])"
      ],
      "execution_count": null,
      "outputs": [
        {
          "output_type": "execute_result",
          "data": {
            "text/plain": [
              "<matplotlib.axes._subplots.AxesSubplot at 0x7fd926565190>"
            ]
          },
          "metadata": {},
          "execution_count": 25
        },
        {
          "output_type": "display_data",
          "data": {
            "image/png": "[encoded data removed]",
            "text/plain": [
              "<Figure size 864x1800 with 4 Axes>"
            ]
          },
          "metadata": {
            "needs_background": "light"
          }
        }
      ]
    },
    {
      "cell_type": "markdown",
      "metadata": {
        "id": "acntbl52UbtN"
      },
      "source": [
        "Inference from above plots:\n",
        "\n",
        "*   Total booking is relatively higher in Summers months(June, July, Aug)\n",
        "*   There is a peak in bookings made between 7am-8am and 5pm-6pm, this surge could be due to regular school and office hours.\n",
        "\n",
        "\n"
      ]
    },
    {
      "cell_type": "code",
      "metadata": {
        "colab": {
          "base_uri": "https://localhost:8080/",
          "height": 623
        },
        "id": "HeMTcGNYKRv3",
        "outputId": "d67f14ba-54d9-40e2-e994-d2f8ae491303"
      },
      "source": [
        "##Histograms to plot all the continuous variables present in the data\n",
        "fig, axes = plt.subplots(nrows=2, ncols=2)\n",
        "fig.set_size_inches(12, 10)\n",
        "sns.histplot(data=train_without_outlier, x='temp', kde=True, ax=axes[0][0])\n",
        "sns.histplot(data=train_without_outlier, x='atemp', kde=True, ax=axes[0][1])\n",
        "sns.histplot(data=train_without_outlier, x='windspeed', kde=True, ax=axes[1][0])\n",
        "sns.histplot(data=train_without_outlier, x='humidity', kde=True, ax=axes[1][1])"
      ],
      "execution_count": null,
      "outputs": [
        {
          "output_type": "execute_result",
          "data": {
            "text/plain": [
              "<matplotlib.axes._subplots.AxesSubplot at 0x7fd9248b1050>"
            ]
          },
          "metadata": {},
          "execution_count": 26
        },
        {
          "output_type": "display_data",
          "data": {
            "image/png": "[encoded data removed]",
            "text/plain": [
              "<Figure size 864x720 with 4 Axes>"
            ]
          },
          "metadata": {
            "needs_background": "light"
          }
        }
      ]
    },
    {
      "cell_type": "code",
      "metadata": {
        "colab": {
          "base_uri": "https://localhost:8080/"
        },
        "id": "ov40_Oydkmp2",
        "outputId": "4f56425b-41a1-4886-ba0e-b940a5c5ccbf"
      },
      "source": [
        "#Combining both Train and Test data\n",
        "fullData = train_without_outlier.append(test, sort=False)\n",
        "fullData.reset_index(inplace=True)\n",
        "fullData.drop('index',inplace=True, axis=1)\n",
        "print(fullData.shape)\n",
        "\n",
        "categorical_cols = ['weekDay', 'month', 'season', 'weather']\n",
        "for col in categorical_cols:\n",
        "  fullData[col] = fullData[col].astype('category')\n",
        "\n",
        "numerical_cols = ['holiday', 'workingday']\n",
        "for ncol in numerical_cols:\n",
        "  fullData[ncol] = fullData[ncol].astype('int64')\n",
        "fullData.dtypes\n"
      ],
      "execution_count": null,
      "outputs": [
        {
          "output_type": "stream",
          "name": "stdout",
          "text": [
            "(10769, 13)\n"
          ]
        },
        {
          "output_type": "execute_result",
          "data": {
            "text/plain": [
              "season           category\n",
              "holiday             int64\n",
              "workingday          int64\n",
              "weather          category\n",
              "temp              float64\n",
              "atemp             float64\n",
              "humidity            int64\n",
              "windspeed         float64\n",
              "Total_booking       int64\n",
              "date               object\n",
              "hour                int64\n",
              "weekDay          category\n",
              "month            category\n",
              "dtype: object"
            ]
          },
          "metadata": {},
          "execution_count": 27
        }
      ]
    },
    {
      "cell_type": "markdown",
      "metadata": {
        "id": "PXr4ZWxcq3o4"
      },
      "source": [
        "# 7. Convert the categorical variables into one hot vector"
      ]
    },
    {
      "cell_type": "code",
      "metadata": {
        "colab": {
          "base_uri": "https://localhost:8080/",
          "height": 469
        },
        "id": "Ey0A5Gcgnjau",
        "outputId": "1ca5089c-7de1-49d4-86fc-7867e7210165"
      },
      "source": [
        "##convert the categorical variables into one hot vector \n",
        "season = pd.get_dummies(fullData['season'])\n",
        "fullData = pd.concat([fullData, season], axis=1)\n",
        "\n",
        "weather = pd.get_dummies(fullData['weather'])\n",
        "fullData = pd.concat([fullData, weather], axis=1)\n",
        "\n",
        "weekDay = pd.get_dummies(fullData['weekDay'])\n",
        "fullData = pd.concat([fullData, weekDay], axis=1)\n",
        "\n",
        "month = pd.get_dummies(fullData['month'])\n",
        "fullData = pd.concat([fullData, month], axis=1)\n",
        "\n",
        "print(fullData.shape)\n",
        "fullData.head()"
      ],
      "execution_count": null,
      "outputs": [
        {
          "output_type": "stream",
          "name": "stdout",
          "text": [
            "(10769, 40)\n"
          ]
        },
        {
          "output_type": "execute_result",
          "data": {
            "text/html": [
              "<div>\n",
              "<style scoped>\n",
              "    .dataframe tbody tr th:only-of-type {\n",
              "        vertical-align: middle;\n",
              "    }\n",
              "\n",
              "    .dataframe tbody tr th {\n",
              "        vertical-align: top;\n",
              "    }\n",
              "\n",
              "    .dataframe thead th {\n",
              "        text-align: right;\n",
              "    }\n",
              "</style>\n",
              "<table border=\"1\" class=\"dataframe\">\n",
              "  <thead>\n",
              "    <tr style=\"text-align: right;\">\n",
              "      <th></th>\n",
              "      <th>season</th>\n",
              "      <th>holiday</th>\n",
              "      <th>workingday</th>\n",
              "      <th>weather</th>\n",
              "      <th>temp</th>\n",
              "      <th>atemp</th>\n",
              "      <th>humidity</th>\n",
              "      <th>windspeed</th>\n",
              "      <th>Total_booking</th>\n",
              "      <th>date</th>\n",
              "      <th>hour</th>\n",
              "      <th>weekDay</th>\n",
              "      <th>month</th>\n",
              "      <th>Fall</th>\n",
              "      <th>Spring</th>\n",
              "      <th>Summer</th>\n",
              "      <th>Winter</th>\n",
              "      <th>Clear + Few clouds</th>\n",
              "      <th>Heavy Rain + Thunderstorm</th>\n",
              "      <th>Light Snow, Light Rain</th>\n",
              "      <th>Mist + Cloudy</th>\n",
              "      <th>Friday</th>\n",
              "      <th>Monday</th>\n",
              "      <th>Saturday</th>\n",
              "      <th>Sunday</th>\n",
              "      <th>Thursday</th>\n",
              "      <th>Tuesday</th>\n",
              "      <th>Wednesday</th>\n",
              "      <th>April</th>\n",
              "      <th>August</th>\n",
              "      <th>December</th>\n",
              "      <th>February</th>\n",
              "      <th>January</th>\n",
              "      <th>July</th>\n",
              "      <th>June</th>\n",
              "      <th>March</th>\n",
              "      <th>May</th>\n",
              "      <th>November</th>\n",
              "      <th>October</th>\n",
              "      <th>September</th>\n",
              "    </tr>\n",
              "  </thead>\n",
              "  <tbody>\n",
              "    <tr>\n",
              "      <th>0</th>\n",
              "      <td>Summer</td>\n",
              "      <td>0</td>\n",
              "      <td>1</td>\n",
              "      <td>Clear + Few clouds</td>\n",
              "      <td>22.14</td>\n",
              "      <td>25.760</td>\n",
              "      <td>77</td>\n",
              "      <td>16.9979</td>\n",
              "      <td>504</td>\n",
              "      <td>2012-05-02</td>\n",
              "      <td>19</td>\n",
              "      <td>Wednesday</td>\n",
              "      <td>May</td>\n",
              "      <td>0</td>\n",
              "      <td>0</td>\n",
              "      <td>1</td>\n",
              "      <td>0</td>\n",
              "      <td>1</td>\n",
              "      <td>0</td>\n",
              "      <td>0</td>\n",
              "      <td>0</td>\n",
              "      <td>0</td>\n",
              "      <td>0</td>\n",
              "      <td>0</td>\n",
              "      <td>0</td>\n",
              "      <td>0</td>\n",
              "      <td>0</td>\n",
              "      <td>1</td>\n",
              "      <td>0</td>\n",
              "      <td>0</td>\n",
              "      <td>0</td>\n",
              "      <td>0</td>\n",
              "      <td>0</td>\n",
              "      <td>0</td>\n",
              "      <td>0</td>\n",
              "      <td>0</td>\n",
              "      <td>1</td>\n",
              "      <td>0</td>\n",
              "      <td>0</td>\n",
              "      <td>0</td>\n",
              "    </tr>\n",
              "    <tr>\n",
              "      <th>1</th>\n",
              "      <td>Fall</td>\n",
              "      <td>0</td>\n",
              "      <td>1</td>\n",
              "      <td>Clear + Few clouds</td>\n",
              "      <td>28.70</td>\n",
              "      <td>33.335</td>\n",
              "      <td>79</td>\n",
              "      <td>19.0012</td>\n",
              "      <td>5</td>\n",
              "      <td>2012-09-05</td>\n",
              "      <td>4</td>\n",
              "      <td>Wednesday</td>\n",
              "      <td>September</td>\n",
              "      <td>1</td>\n",
              "      <td>0</td>\n",
              "      <td>0</td>\n",
              "      <td>0</td>\n",
              "      <td>1</td>\n",
              "      <td>0</td>\n",
              "      <td>0</td>\n",
              "      <td>0</td>\n",
              "      <td>0</td>\n",
              "      <td>0</td>\n",
              "      <td>0</td>\n",
              "      <td>0</td>\n",
              "      <td>0</td>\n",
              "      <td>0</td>\n",
              "      <td>1</td>\n",
              "      <td>0</td>\n",
              "      <td>0</td>\n",
              "      <td>0</td>\n",
              "      <td>0</td>\n",
              "      <td>0</td>\n",
              "      <td>0</td>\n",
              "      <td>0</td>\n",
              "      <td>0</td>\n",
              "      <td>0</td>\n",
              "      <td>0</td>\n",
              "      <td>0</td>\n",
              "      <td>1</td>\n",
              "    </tr>\n",
              "    <tr>\n",
              "      <th>2</th>\n",
              "      <td>Spring</td>\n",
              "      <td>0</td>\n",
              "      <td>1</td>\n",
              "      <td>Clear + Few clouds</td>\n",
              "      <td>5.74</td>\n",
              "      <td>6.060</td>\n",
              "      <td>50</td>\n",
              "      <td>22.0028</td>\n",
              "      <td>139</td>\n",
              "      <td>2011-01-13</td>\n",
              "      <td>9</td>\n",
              "      <td>Thursday</td>\n",
              "      <td>January</td>\n",
              "      <td>0</td>\n",
              "      <td>1</td>\n",
              "      <td>0</td>\n",
              "      <td>0</td>\n",
              "      <td>1</td>\n",
              "      <td>0</td>\n",
              "      <td>0</td>\n",
              "      <td>0</td>\n",
              "      <td>0</td>\n",
              "      <td>0</td>\n",
              "      <td>0</td>\n",
              "      <td>0</td>\n",
              "      <td>1</td>\n",
              "      <td>0</td>\n",
              "      <td>0</td>\n",
              "      <td>0</td>\n",
              "      <td>0</td>\n",
              "      <td>0</td>\n",
              "      <td>0</td>\n",
              "      <td>1</td>\n",
              "      <td>0</td>\n",
              "      <td>0</td>\n",
              "      <td>0</td>\n",
              "      <td>0</td>\n",
              "      <td>0</td>\n",
              "      <td>0</td>\n",
              "      <td>0</td>\n",
              "    </tr>\n",
              "    <tr>\n",
              "      <th>3</th>\n",
              "      <td>Winter</td>\n",
              "      <td>0</td>\n",
              "      <td>1</td>\n",
              "      <td>Clear + Few clouds</td>\n",
              "      <td>13.94</td>\n",
              "      <td>16.665</td>\n",
              "      <td>29</td>\n",
              "      <td>8.9981</td>\n",
              "      <td>209</td>\n",
              "      <td>2011-11-18</td>\n",
              "      <td>16</td>\n",
              "      <td>Friday</td>\n",
              "      <td>November</td>\n",
              "      <td>0</td>\n",
              "      <td>0</td>\n",
              "      <td>0</td>\n",
              "      <td>1</td>\n",
              "      <td>1</td>\n",
              "      <td>0</td>\n",
              "      <td>0</td>\n",
              "      <td>0</td>\n",
              "      <td>1</td>\n",
              "      <td>0</td>\n",
              "      <td>0</td>\n",
              "      <td>0</td>\n",
              "      <td>0</td>\n",
              "      <td>0</td>\n",
              "      <td>0</td>\n",
              "      <td>0</td>\n",
              "      <td>0</td>\n",
              "      <td>0</td>\n",
              "      <td>0</td>\n",
              "      <td>0</td>\n",
              "      <td>0</td>\n",
              "      <td>0</td>\n",
              "      <td>0</td>\n",
              "      <td>0</td>\n",
              "      <td>1</td>\n",
              "      <td>0</td>\n",
              "      <td>0</td>\n",
              "    </tr>\n",
              "    <tr>\n",
              "      <th>4</th>\n",
              "      <td>Fall</td>\n",
              "      <td>0</td>\n",
              "      <td>1</td>\n",
              "      <td>Clear + Few clouds</td>\n",
              "      <td>30.34</td>\n",
              "      <td>33.335</td>\n",
              "      <td>51</td>\n",
              "      <td>19.0012</td>\n",
              "      <td>184</td>\n",
              "      <td>2011-09-13</td>\n",
              "      <td>13</td>\n",
              "      <td>Tuesday</td>\n",
              "      <td>September</td>\n",
              "      <td>1</td>\n",
              "      <td>0</td>\n",
              "      <td>0</td>\n",
              "      <td>0</td>\n",
              "      <td>1</td>\n",
              "      <td>0</td>\n",
              "      <td>0</td>\n",
              "      <td>0</td>\n",
              "      <td>0</td>\n",
              "      <td>0</td>\n",
              "      <td>0</td>\n",
              "      <td>0</td>\n",
              "      <td>0</td>\n",
              "      <td>1</td>\n",
              "      <td>0</td>\n",
              "      <td>0</td>\n",
              "      <td>0</td>\n",
              "      <td>0</td>\n",
              "      <td>0</td>\n",
              "      <td>0</td>\n",
              "      <td>0</td>\n",
              "      <td>0</td>\n",
              "      <td>0</td>\n",
              "      <td>0</td>\n",
              "      <td>0</td>\n",
              "      <td>0</td>\n",
              "      <td>1</td>\n",
              "    </tr>\n",
              "  </tbody>\n",
              "</table>\n",
              "</div>"
            ],
            "text/plain": [
              "   season  holiday  workingday  ... November  October  September\n",
              "0  Summer        0           1  ...        0        0          0\n",
              "1    Fall        0           1  ...        0        0          1\n",
              "2  Spring        0           1  ...        0        0          0\n",
              "3  Winter        0           1  ...        1        0          0\n",
              "4    Fall        0           1  ...        0        0          1\n",
              "\n",
              "[5 rows x 40 columns]"
            ]
          },
          "metadata": {},
          "execution_count": 28
        }
      ]
    },
    {
      "cell_type": "code",
      "metadata": {
        "colab": {
          "base_uri": "https://localhost:8080/",
          "height": 295
        },
        "id": "FzHr20a9pdme",
        "outputId": "0c7586e3-e59d-4d06-8ffd-751ef747ec55"
      },
      "source": [
        "## drop irrelevant columns\n",
        "fullData.drop(['season', 'weather',\t'weekDay', 'month', 'date', 'atemp'], inplace=True, axis=1)\n",
        "print(fullData.shape)\n",
        "fullData.head()"
      ],
      "execution_count": null,
      "outputs": [
        {
          "output_type": "stream",
          "name": "stdout",
          "text": [
            "(10769, 34)\n"
          ]
        },
        {
          "output_type": "execute_result",
          "data": {
            "text/html": [
              "<div>\n",
              "<style scoped>\n",
              "    .dataframe tbody tr th:only-of-type {\n",
              "        vertical-align: middle;\n",
              "    }\n",
              "\n",
              "    .dataframe tbody tr th {\n",
              "        vertical-align: top;\n",
              "    }\n",
              "\n",
              "    .dataframe thead th {\n",
              "        text-align: right;\n",
              "    }\n",
              "</style>\n",
              "<table border=\"1\" class=\"dataframe\">\n",
              "  <thead>\n",
              "    <tr style=\"text-align: right;\">\n",
              "      <th></th>\n",
              "      <th>holiday</th>\n",
              "      <th>workingday</th>\n",
              "      <th>temp</th>\n",
              "      <th>humidity</th>\n",
              "      <th>windspeed</th>\n",
              "      <th>Total_booking</th>\n",
              "      <th>hour</th>\n",
              "      <th>Fall</th>\n",
              "      <th>Spring</th>\n",
              "      <th>Summer</th>\n",
              "      <th>Winter</th>\n",
              "      <th>Clear + Few clouds</th>\n",
              "      <th>Heavy Rain + Thunderstorm</th>\n",
              "      <th>Light Snow, Light Rain</th>\n",
              "      <th>Mist + Cloudy</th>\n",
              "      <th>Friday</th>\n",
              "      <th>Monday</th>\n",
              "      <th>Saturday</th>\n",
              "      <th>Sunday</th>\n",
              "      <th>Thursday</th>\n",
              "      <th>Tuesday</th>\n",
              "      <th>Wednesday</th>\n",
              "      <th>April</th>\n",
              "      <th>August</th>\n",
              "      <th>December</th>\n",
              "      <th>February</th>\n",
              "      <th>January</th>\n",
              "      <th>July</th>\n",
              "      <th>June</th>\n",
              "      <th>March</th>\n",
              "      <th>May</th>\n",
              "      <th>November</th>\n",
              "      <th>October</th>\n",
              "      <th>September</th>\n",
              "    </tr>\n",
              "  </thead>\n",
              "  <tbody>\n",
              "    <tr>\n",
              "      <th>0</th>\n",
              "      <td>0</td>\n",
              "      <td>1</td>\n",
              "      <td>22.14</td>\n",
              "      <td>77</td>\n",
              "      <td>16.9979</td>\n",
              "      <td>504</td>\n",
              "      <td>19</td>\n",
              "      <td>0</td>\n",
              "      <td>0</td>\n",
              "      <td>1</td>\n",
              "      <td>0</td>\n",
              "      <td>1</td>\n",
              "      <td>0</td>\n",
              "      <td>0</td>\n",
              "      <td>0</td>\n",
              "      <td>0</td>\n",
              "      <td>0</td>\n",
              "      <td>0</td>\n",
              "      <td>0</td>\n",
              "      <td>0</td>\n",
              "      <td>0</td>\n",
              "      <td>1</td>\n",
              "      <td>0</td>\n",
              "      <td>0</td>\n",
              "      <td>0</td>\n",
              "      <td>0</td>\n",
              "      <td>0</td>\n",
              "      <td>0</td>\n",
              "      <td>0</td>\n",
              "      <td>0</td>\n",
              "      <td>1</td>\n",
              "      <td>0</td>\n",
              "      <td>0</td>\n",
              "      <td>0</td>\n",
              "    </tr>\n",
              "    <tr>\n",
              "      <th>1</th>\n",
              "      <td>0</td>\n",
              "      <td>1</td>\n",
              "      <td>28.70</td>\n",
              "      <td>79</td>\n",
              "      <td>19.0012</td>\n",
              "      <td>5</td>\n",
              "      <td>4</td>\n",
              "      <td>1</td>\n",
              "      <td>0</td>\n",
              "      <td>0</td>\n",
              "      <td>0</td>\n",
              "      <td>1</td>\n",
              "      <td>0</td>\n",
              "      <td>0</td>\n",
              "      <td>0</td>\n",
              "      <td>0</td>\n",
              "      <td>0</td>\n",
              "      <td>0</td>\n",
              "      <td>0</td>\n",
              "      <td>0</td>\n",
              "      <td>0</td>\n",
              "      <td>1</td>\n",
              "      <td>0</td>\n",
              "      <td>0</td>\n",
              "      <td>0</td>\n",
              "      <td>0</td>\n",
              "      <td>0</td>\n",
              "      <td>0</td>\n",
              "      <td>0</td>\n",
              "      <td>0</td>\n",
              "      <td>0</td>\n",
              "      <td>0</td>\n",
              "      <td>0</td>\n",
              "      <td>1</td>\n",
              "    </tr>\n",
              "    <tr>\n",
              "      <th>2</th>\n",
              "      <td>0</td>\n",
              "      <td>1</td>\n",
              "      <td>5.74</td>\n",
              "      <td>50</td>\n",
              "      <td>22.0028</td>\n",
              "      <td>139</td>\n",
              "      <td>9</td>\n",
              "      <td>0</td>\n",
              "      <td>1</td>\n",
              "      <td>0</td>\n",
              "      <td>0</td>\n",
              "      <td>1</td>\n",
              "      <td>0</td>\n",
              "      <td>0</td>\n",
              "      <td>0</td>\n",
              "      <td>0</td>\n",
              "      <td>0</td>\n",
              "      <td>0</td>\n",
              "      <td>0</td>\n",
              "      <td>1</td>\n",
              "      <td>0</td>\n",
              "      <td>0</td>\n",
              "      <td>0</td>\n",
              "      <td>0</td>\n",
              "      <td>0</td>\n",
              "      <td>0</td>\n",
              "      <td>1</td>\n",
              "      <td>0</td>\n",
              "      <td>0</td>\n",
              "      <td>0</td>\n",
              "      <td>0</td>\n",
              "      <td>0</td>\n",
              "      <td>0</td>\n",
              "      <td>0</td>\n",
              "    </tr>\n",
              "    <tr>\n",
              "      <th>3</th>\n",
              "      <td>0</td>\n",
              "      <td>1</td>\n",
              "      <td>13.94</td>\n",
              "      <td>29</td>\n",
              "      <td>8.9981</td>\n",
              "      <td>209</td>\n",
              "      <td>16</td>\n",
              "      <td>0</td>\n",
              "      <td>0</td>\n",
              "      <td>0</td>\n",
              "      <td>1</td>\n",
              "      <td>1</td>\n",
              "      <td>0</td>\n",
              "      <td>0</td>\n",
              "      <td>0</td>\n",
              "      <td>1</td>\n",
              "      <td>0</td>\n",
              "      <td>0</td>\n",
              "      <td>0</td>\n",
              "      <td>0</td>\n",
              "      <td>0</td>\n",
              "      <td>0</td>\n",
              "      <td>0</td>\n",
              "      <td>0</td>\n",
              "      <td>0</td>\n",
              "      <td>0</td>\n",
              "      <td>0</td>\n",
              "      <td>0</td>\n",
              "      <td>0</td>\n",
              "      <td>0</td>\n",
              "      <td>0</td>\n",
              "      <td>1</td>\n",
              "      <td>0</td>\n",
              "      <td>0</td>\n",
              "    </tr>\n",
              "    <tr>\n",
              "      <th>4</th>\n",
              "      <td>0</td>\n",
              "      <td>1</td>\n",
              "      <td>30.34</td>\n",
              "      <td>51</td>\n",
              "      <td>19.0012</td>\n",
              "      <td>184</td>\n",
              "      <td>13</td>\n",
              "      <td>1</td>\n",
              "      <td>0</td>\n",
              "      <td>0</td>\n",
              "      <td>0</td>\n",
              "      <td>1</td>\n",
              "      <td>0</td>\n",
              "      <td>0</td>\n",
              "      <td>0</td>\n",
              "      <td>0</td>\n",
              "      <td>0</td>\n",
              "      <td>0</td>\n",
              "      <td>0</td>\n",
              "      <td>0</td>\n",
              "      <td>1</td>\n",
              "      <td>0</td>\n",
              "      <td>0</td>\n",
              "      <td>0</td>\n",
              "      <td>0</td>\n",
              "      <td>0</td>\n",
              "      <td>0</td>\n",
              "      <td>0</td>\n",
              "      <td>0</td>\n",
              "      <td>0</td>\n",
              "      <td>0</td>\n",
              "      <td>0</td>\n",
              "      <td>0</td>\n",
              "      <td>1</td>\n",
              "    </tr>\n",
              "  </tbody>\n",
              "</table>\n",
              "</div>"
            ],
            "text/plain": [
              "   holiday  workingday   temp  humidity  ...  May  November  October  September\n",
              "0        0           1  22.14        77  ...    1         0        0          0\n",
              "1        0           1  28.70        79  ...    0         0        0          1\n",
              "2        0           1   5.74        50  ...    0         0        0          0\n",
              "3        0           1  13.94        29  ...    0         1        0          0\n",
              "4        0           1  30.34        51  ...    0         0        0          1\n",
              "\n",
              "[5 rows x 34 columns]"
            ]
          },
          "metadata": {},
          "execution_count": 29
        }
      ]
    },
    {
      "cell_type": "markdown",
      "metadata": {
        "id": "XLsPArS2q_Ju"
      },
      "source": [
        "# 8. Split your dataset for training and testing "
      ]
    },
    {
      "cell_type": "code",
      "metadata": {
        "colab": {
          "base_uri": "https://localhost:8080/",
          "height": 504
        },
        "id": "Tv05VTFzrCEO",
        "outputId": "fb7efc90-0545-4300-e8df-bbd39916806b"
      },
      "source": [
        "df_train = fullData[:train_without_outlier.shape[0]]\n",
        "df_test = fullData[train_without_outlier.shape[0]:]\n",
        "\n",
        "print(df_train.shape)\n",
        "print(df_test.shape)\n",
        "#dropping Label from Test data\n",
        "df_test.drop(['Total_booking'], inplace=True, axis=1)\n",
        "\n",
        "X = df_train.copy() # Features\n",
        "#dropping Label from Training data\n",
        "X.drop(['Total_booking'], inplace=True, axis=1)\n",
        "y = df_train['Total_booking']  # Label\n",
        "\n",
        "print(X.shape)\n",
        "print(y.shape)\n",
        "\n",
        "# Split dataset into training set and test set\n",
        "X_train, X_valid, y_train, y_valid = train_test_split(X, y, test_size=0.3, random_state=100) # 70% training and 30% test\n",
        "\n",
        "print(X_valid.shape)\n",
        "print(y_valid.shape)\n",
        "print(X_train.shape)\n",
        "print(y_train.shape)\n",
        "df_test.head()"
      ],
      "execution_count": null,
      "outputs": [
        {
          "output_type": "stream",
          "name": "stdout",
          "text": [
            "(8591, 34)\n",
            "(2178, 34)\n",
            "(8591, 33)\n",
            "(8591,)\n",
            "(2578, 33)\n",
            "(2578,)\n",
            "(6013, 33)\n",
            "(6013,)\n"
          ]
        },
        {
          "output_type": "stream",
          "name": "stderr",
          "text": [
            "/usr/local/lib/python3.7/dist-packages/pandas/core/frame.py:4174: SettingWithCopyWarning: \n",
            "A value is trying to be set on a copy of a slice from a DataFrame\n",
            "\n",
            "See the caveats in the documentation: https://pandas.pydata.org/pandas-docs/stable/user_guide/indexing.html#returning-a-view-versus-a-copy\n",
            "  errors=errors,\n"
          ]
        },
        {
          "output_type": "execute_result",
          "data": {
            "text/html": [
              "<div>\n",
              "<style scoped>\n",
              "    .dataframe tbody tr th:only-of-type {\n",
              "        vertical-align: middle;\n",
              "    }\n",
              "\n",
              "    .dataframe tbody tr th {\n",
              "        vertical-align: top;\n",
              "    }\n",
              "\n",
              "    .dataframe thead th {\n",
              "        text-align: right;\n",
              "    }\n",
              "</style>\n",
              "<table border=\"1\" class=\"dataframe\">\n",
              "  <thead>\n",
              "    <tr style=\"text-align: right;\">\n",
              "      <th></th>\n",
              "      <th>holiday</th>\n",
              "      <th>workingday</th>\n",
              "      <th>temp</th>\n",
              "      <th>humidity</th>\n",
              "      <th>windspeed</th>\n",
              "      <th>hour</th>\n",
              "      <th>Fall</th>\n",
              "      <th>Spring</th>\n",
              "      <th>Summer</th>\n",
              "      <th>Winter</th>\n",
              "      <th>Clear + Few clouds</th>\n",
              "      <th>Heavy Rain + Thunderstorm</th>\n",
              "      <th>Light Snow, Light Rain</th>\n",
              "      <th>Mist + Cloudy</th>\n",
              "      <th>Friday</th>\n",
              "      <th>Monday</th>\n",
              "      <th>Saturday</th>\n",
              "      <th>Sunday</th>\n",
              "      <th>Thursday</th>\n",
              "      <th>Tuesday</th>\n",
              "      <th>Wednesday</th>\n",
              "      <th>April</th>\n",
              "      <th>August</th>\n",
              "      <th>December</th>\n",
              "      <th>February</th>\n",
              "      <th>January</th>\n",
              "      <th>July</th>\n",
              "      <th>June</th>\n",
              "      <th>March</th>\n",
              "      <th>May</th>\n",
              "      <th>November</th>\n",
              "      <th>October</th>\n",
              "      <th>September</th>\n",
              "    </tr>\n",
              "  </thead>\n",
              "  <tbody>\n",
              "    <tr>\n",
              "      <th>8591</th>\n",
              "      <td>0</td>\n",
              "      <td>1</td>\n",
              "      <td>21.32</td>\n",
              "      <td>48</td>\n",
              "      <td>35.0008</td>\n",
              "      <td>11</td>\n",
              "      <td>0</td>\n",
              "      <td>0</td>\n",
              "      <td>1</td>\n",
              "      <td>0</td>\n",
              "      <td>1</td>\n",
              "      <td>0</td>\n",
              "      <td>0</td>\n",
              "      <td>0</td>\n",
              "      <td>0</td>\n",
              "      <td>0</td>\n",
              "      <td>0</td>\n",
              "      <td>0</td>\n",
              "      <td>1</td>\n",
              "      <td>0</td>\n",
              "      <td>0</td>\n",
              "      <td>0</td>\n",
              "      <td>0</td>\n",
              "      <td>0</td>\n",
              "      <td>0</td>\n",
              "      <td>0</td>\n",
              "      <td>0</td>\n",
              "      <td>0</td>\n",
              "      <td>0</td>\n",
              "      <td>1</td>\n",
              "      <td>0</td>\n",
              "      <td>0</td>\n",
              "      <td>0</td>\n",
              "    </tr>\n",
              "    <tr>\n",
              "      <th>8592</th>\n",
              "      <td>0</td>\n",
              "      <td>0</td>\n",
              "      <td>23.78</td>\n",
              "      <td>64</td>\n",
              "      <td>7.0015</td>\n",
              "      <td>7</td>\n",
              "      <td>0</td>\n",
              "      <td>0</td>\n",
              "      <td>1</td>\n",
              "      <td>0</td>\n",
              "      <td>1</td>\n",
              "      <td>0</td>\n",
              "      <td>0</td>\n",
              "      <td>0</td>\n",
              "      <td>0</td>\n",
              "      <td>0</td>\n",
              "      <td>1</td>\n",
              "      <td>0</td>\n",
              "      <td>0</td>\n",
              "      <td>0</td>\n",
              "      <td>0</td>\n",
              "      <td>0</td>\n",
              "      <td>0</td>\n",
              "      <td>0</td>\n",
              "      <td>0</td>\n",
              "      <td>0</td>\n",
              "      <td>0</td>\n",
              "      <td>1</td>\n",
              "      <td>0</td>\n",
              "      <td>0</td>\n",
              "      <td>0</td>\n",
              "      <td>0</td>\n",
              "      <td>0</td>\n",
              "    </tr>\n",
              "    <tr>\n",
              "      <th>8593</th>\n",
              "      <td>0</td>\n",
              "      <td>0</td>\n",
              "      <td>11.48</td>\n",
              "      <td>100</td>\n",
              "      <td>27.9993</td>\n",
              "      <td>20</td>\n",
              "      <td>0</td>\n",
              "      <td>1</td>\n",
              "      <td>0</td>\n",
              "      <td>0</td>\n",
              "      <td>0</td>\n",
              "      <td>0</td>\n",
              "      <td>1</td>\n",
              "      <td>0</td>\n",
              "      <td>0</td>\n",
              "      <td>0</td>\n",
              "      <td>0</td>\n",
              "      <td>1</td>\n",
              "      <td>0</td>\n",
              "      <td>0</td>\n",
              "      <td>0</td>\n",
              "      <td>0</td>\n",
              "      <td>0</td>\n",
              "      <td>0</td>\n",
              "      <td>0</td>\n",
              "      <td>0</td>\n",
              "      <td>0</td>\n",
              "      <td>0</td>\n",
              "      <td>1</td>\n",
              "      <td>0</td>\n",
              "      <td>0</td>\n",
              "      <td>0</td>\n",
              "      <td>0</td>\n",
              "    </tr>\n",
              "    <tr>\n",
              "      <th>8594</th>\n",
              "      <td>0</td>\n",
              "      <td>1</td>\n",
              "      <td>25.42</td>\n",
              "      <td>83</td>\n",
              "      <td>0.0000</td>\n",
              "      <td>11</td>\n",
              "      <td>0</td>\n",
              "      <td>0</td>\n",
              "      <td>0</td>\n",
              "      <td>1</td>\n",
              "      <td>0</td>\n",
              "      <td>0</td>\n",
              "      <td>0</td>\n",
              "      <td>1</td>\n",
              "      <td>0</td>\n",
              "      <td>0</td>\n",
              "      <td>0</td>\n",
              "      <td>0</td>\n",
              "      <td>1</td>\n",
              "      <td>0</td>\n",
              "      <td>0</td>\n",
              "      <td>0</td>\n",
              "      <td>0</td>\n",
              "      <td>0</td>\n",
              "      <td>0</td>\n",
              "      <td>0</td>\n",
              "      <td>0</td>\n",
              "      <td>0</td>\n",
              "      <td>0</td>\n",
              "      <td>0</td>\n",
              "      <td>0</td>\n",
              "      <td>1</td>\n",
              "      <td>0</td>\n",
              "    </tr>\n",
              "    <tr>\n",
              "      <th>8595</th>\n",
              "      <td>0</td>\n",
              "      <td>0</td>\n",
              "      <td>25.42</td>\n",
              "      <td>43</td>\n",
              "      <td>23.9994</td>\n",
              "      <td>12</td>\n",
              "      <td>0</td>\n",
              "      <td>0</td>\n",
              "      <td>1</td>\n",
              "      <td>0</td>\n",
              "      <td>1</td>\n",
              "      <td>0</td>\n",
              "      <td>0</td>\n",
              "      <td>0</td>\n",
              "      <td>0</td>\n",
              "      <td>0</td>\n",
              "      <td>1</td>\n",
              "      <td>0</td>\n",
              "      <td>0</td>\n",
              "      <td>0</td>\n",
              "      <td>0</td>\n",
              "      <td>0</td>\n",
              "      <td>0</td>\n",
              "      <td>0</td>\n",
              "      <td>0</td>\n",
              "      <td>0</td>\n",
              "      <td>0</td>\n",
              "      <td>1</td>\n",
              "      <td>0</td>\n",
              "      <td>0</td>\n",
              "      <td>0</td>\n",
              "      <td>0</td>\n",
              "      <td>0</td>\n",
              "    </tr>\n",
              "  </tbody>\n",
              "</table>\n",
              "</div>"
            ],
            "text/plain": [
              "      holiday  workingday   temp  humidity  ...  May  November  October  September\n",
              "8591        0           1  21.32        48  ...    1         0        0          0\n",
              "8592        0           0  23.78        64  ...    0         0        0          0\n",
              "8593        0           0  11.48       100  ...    0         0        0          0\n",
              "8594        0           1  25.42        83  ...    0         0        1          0\n",
              "8595        0           0  25.42        43  ...    0         0        0          0\n",
              "\n",
              "[5 rows x 33 columns]"
            ]
          },
          "metadata": {},
          "execution_count": 30
        }
      ]
    },
    {
      "cell_type": "markdown",
      "metadata": {
        "id": "6pljpsNIDqZ8"
      },
      "source": [
        "# 9. Fit various models (Random Forest Regressor, Ada Boost Regressor, Bagging Regressor,SVR, and K-Neighbors Regressor) "
      ]
    },
    {
      "cell_type": "code",
      "metadata": {
        "colab": {
          "base_uri": "https://localhost:8080/"
        },
        "id": "oE_2vJihDJJA",
        "outputId": "5706c215-7a58-4058-ae2c-6d2a7262002a"
      },
      "source": [
        "#Implementing K-fold and fitting various models\n",
        "seed = 100\n",
        "kfold = KFold(n_splits=10, random_state=seed)\n",
        "num_trees = 200\n",
        "\n",
        "model_br = BaggingRegressor(n_estimators=num_trees, random_state=seed)\n",
        "model_rf = RandomForestRegressor(n_estimators=num_trees, random_state=seed)\n",
        "model_abr = AdaBoostRegressor(n_estimators=num_trees, random_state=seed)\n",
        "model_svr = SVR()\n",
        "model_knr = KNeighborsRegressor()\n",
        "\n",
        "all_models_names =[]\n",
        "RMSLE_values =[]\n",
        "models = [model_br, model_rf, model_abr, model_svr, model_knr]\n",
        "for model in models:\n",
        "  model_name = str(model).partition('(')[0] #Partitioning the text and keeping only the head [0], which is model name\n",
        "  result = cross_val_score(model, X_train, y_train, cv=kfold) #Calculating cross validation Score\n",
        "  print('\\n')\n",
        "  print(f\"Mean cross validation score of {model_name}: \", result.mean())\n",
        "  model.fit(X_train, y_train)\n",
        "  y_pred = model.predict(X_valid)\n",
        "  print(f\"RMSE of {model_name}: \", np.sqrt(mean_squared_error(y_valid, y_pred)))\n",
        "  RMSLE = np.sqrt(mean_squared_log_error(y_valid, y_pred))\n",
        "  print(f\"RMSLE of {model_name}: \", RMSLE)\n",
        "  all_models_names.append(model_name)\n",
        "  RMSLE_values.append(RMSLE)"
      ],
      "execution_count": null,
      "outputs": [
        {
          "output_type": "stream",
          "name": "stderr",
          "text": [
            "/usr/local/lib/python3.7/dist-packages/sklearn/model_selection/_split.py:296: FutureWarning: Setting a random_state has no effect since shuffle is False. This will raise an error in 0.24. You should leave random_state to its default (None), or set shuffle=True.\n",
            "  FutureWarning\n"
          ]
        },
        {
          "output_type": "stream",
          "name": "stdout",
          "text": [
            "\n",
            "\n",
            "Mean cross validation score of BaggingRegressor:  0.8552038342818739\n",
            "RMSE of BaggingRegressor:  64.05247181031353\n",
            "RMSLE of BaggingRegressor:  0.4117371406483682\n",
            "\n",
            "\n",
            "Mean cross validation score of RandomForestRegressor:  0.8553645653888384\n",
            "RMSE of RandomForestRegressor:  64.06529105006285\n",
            "RMSLE of RandomForestRegressor:  0.41153812294395853\n",
            "\n",
            "\n",
            "Mean cross validation score of AdaBoostRegressor:  0.5113956801683759\n",
            "RMSE of AdaBoostRegressor:  116.70315831983763\n",
            "RMSLE of AdaBoostRegressor:  0.963024124837311\n",
            "\n",
            "\n",
            "Mean cross validation score of SVR:  0.18931912929126432\n",
            "RMSE of SVR:  145.363086699157\n",
            "RMSLE of SVR:  1.1950236412577082\n",
            "\n",
            "\n",
            "Mean cross validation score of KNeighborsRegressor:  0.5173099250955799\n",
            "RMSE of KNeighborsRegressor:  112.1961642426002\n",
            "RMSLE of KNeighborsRegressor:  0.8934506866484754\n"
          ]
        }
      ]
    },
    {
      "cell_type": "markdown",
      "metadata": {
        "id": "P_0NGNt9gLxy"
      },
      "source": [
        "# 10. Display a Factor plot to visualize the RMSE values achieved by different modeling algorithm "
      ]
    },
    {
      "cell_type": "code",
      "metadata": {
        "colab": {
          "base_uri": "https://localhost:8080/",
          "height": 206
        },
        "id": "FDHd5_iabEiA",
        "outputId": "723a9f92-5ab0-4118-9a59-f6c8501f79ae"
      },
      "source": [
        "rmsle_data = list(zip(all_models_names, RMSLE_values))\n",
        "df_rmsle = pd.DataFrame(rmsle_data, columns=['Model_Name', 'RMSLE'])\n",
        "df_rmsle\n"
      ],
      "execution_count": null,
      "outputs": [
        {
          "output_type": "execute_result",
          "data": {
            "text/html": [
              "<div>\n",
              "<style scoped>\n",
              "    .dataframe tbody tr th:only-of-type {\n",
              "        vertical-align: middle;\n",
              "    }\n",
              "\n",
              "    .dataframe tbody tr th {\n",
              "        vertical-align: top;\n",
              "    }\n",
              "\n",
              "    .dataframe thead th {\n",
              "        text-align: right;\n",
              "    }\n",
              "</style>\n",
              "<table border=\"1\" class=\"dataframe\">\n",
              "  <thead>\n",
              "    <tr style=\"text-align: right;\">\n",
              "      <th></th>\n",
              "      <th>Model_Name</th>\n",
              "      <th>RMSLE</th>\n",
              "    </tr>\n",
              "  </thead>\n",
              "  <tbody>\n",
              "    <tr>\n",
              "      <th>0</th>\n",
              "      <td>BaggingRegressor</td>\n",
              "      <td>0.411737</td>\n",
              "    </tr>\n",
              "    <tr>\n",
              "      <th>1</th>\n",
              "      <td>RandomForestRegressor</td>\n",
              "      <td>0.411538</td>\n",
              "    </tr>\n",
              "    <tr>\n",
              "      <th>2</th>\n",
              "      <td>AdaBoostRegressor</td>\n",
              "      <td>0.963024</td>\n",
              "    </tr>\n",
              "    <tr>\n",
              "      <th>3</th>\n",
              "      <td>SVR</td>\n",
              "      <td>1.195024</td>\n",
              "    </tr>\n",
              "    <tr>\n",
              "      <th>4</th>\n",
              "      <td>KNeighborsRegressor</td>\n",
              "      <td>0.893451</td>\n",
              "    </tr>\n",
              "  </tbody>\n",
              "</table>\n",
              "</div>"
            ],
            "text/plain": [
              "              Model_Name     RMSLE\n",
              "0       BaggingRegressor  0.411737\n",
              "1  RandomForestRegressor  0.411538\n",
              "2      AdaBoostRegressor  0.963024\n",
              "3                    SVR  1.195024\n",
              "4    KNeighborsRegressor  0.893451"
            ]
          },
          "metadata": {},
          "execution_count": 32
        }
      ]
    },
    {
      "cell_type": "code",
      "metadata": {
        "colab": {
          "base_uri": "https://localhost:8080/",
          "height": 548
        },
        "id": "qINPGq8Tgp-u",
        "outputId": "d5d48ecb-4cf2-4b38-f199-85d6a93069bd"
      },
      "source": [
        "##Factor plot to visualize the RMSE values achieved by different modeling algorithm\n",
        "sns.factorplot(x='Model_Name', y='RMSLE', data=df_rmsle, kind='bar', size=6, aspect=2)"
      ],
      "execution_count": null,
      "outputs": [
        {
          "output_type": "stream",
          "name": "stderr",
          "text": [
            "/usr/local/lib/python3.7/dist-packages/seaborn/categorical.py:3717: UserWarning: The `factorplot` function has been renamed to `catplot`. The original name will be removed in a future release. Please update your code. Note that the default `kind` in `factorplot` (`'point'`) has changed `'strip'` in `catplot`.\n",
            "  warnings.warn(msg)\n",
            "/usr/local/lib/python3.7/dist-packages/seaborn/categorical.py:3723: UserWarning: The `size` parameter has been renamed to `height`; please update your code.\n",
            "  warnings.warn(msg, UserWarning)\n"
          ]
        },
        {
          "output_type": "execute_result",
          "data": {
            "text/plain": [
              "<seaborn.axisgrid.FacetGrid at 0x7fd92460dc90>"
            ]
          },
          "metadata": {},
          "execution_count": 33
        },
        {
          "output_type": "display_data",
          "data": {
            "image/png": "[encoded data removed]",
            "text/plain": [
              "<Figure size 864x432 with 1 Axes>"
            ]
          },
          "metadata": {
            "needs_background": "light"
          }
        }
      ]
    },
    {
      "cell_type": "markdown",
      "metadata": {
        "id": "LojgJLaDiqL1"
      },
      "source": [
        "### Least RMSLE value is obtained by Random Forest Regressor Model, so we will use the same model for Hyperparameter tuning."
      ]
    },
    {
      "cell_type": "markdown",
      "metadata": {
        "id": "6dNKyshtjLN2"
      },
      "source": [
        "# 11. Perform Hyper-parameter tuning on the best model using GridSearchCV and print the best parameters using model.best_params_ "
      ]
    },
    {
      "cell_type": "code",
      "metadata": {
        "colab": {
          "base_uri": "https://localhost:8080/"
        },
        "id": "C1049dxgjHOo",
        "outputId": "313702a8-57f9-434a-f853-bffa654254df"
      },
      "source": [
        "##Using Random Forest Regressor and GridSearchCV to get the best parameters\n",
        "\n",
        "param_grid = {\n",
        "    'max_features':[\"auto\",\"sqrt\", \"log2\"],\n",
        "    'n_estimators': [300, 500, 700]\n",
        "}\n",
        "rf_model = GridSearchCV(estimator=RandomForestRegressor(), param_grid=param_grid, n_jobs=-1, verbose=3)\n",
        "rf_model.fit(X_train, y_train)\n",
        "y_pred = rf_model.predict(X_valid)\n",
        "print(\"\\n RMSLE: \", np.sqrt(mean_squared_log_error(y_valid, y_pred)))\n",
        "rf_model.best_params_\n",
        "\n"
      ],
      "execution_count": null,
      "outputs": [
        {
          "output_type": "stream",
          "name": "stdout",
          "text": [
            "Fitting 5 folds for each of 9 candidates, totalling 45 fits\n"
          ]
        },
        {
          "output_type": "stream",
          "name": "stderr",
          "text": [
            "[Parallel(n_jobs=-1)]: Using backend LokyBackend with 2 concurrent workers.\n",
            "[Parallel(n_jobs=-1)]: Done  28 tasks      | elapsed:  2.5min\n",
            "[Parallel(n_jobs=-1)]: Done  45 out of  45 | elapsed:  3.3min finished\n"
          ]
        },
        {
          "output_type": "stream",
          "name": "stdout",
          "text": [
            "\n",
            " RMSLE:  0.4117867581376004\n"
          ]
        },
        {
          "output_type": "execute_result",
          "data": {
            "text/plain": [
              "{'max_features': 'auto', 'n_estimators': 300}"
            ]
          },
          "metadata": {},
          "execution_count": 38
        }
      ]
    },
    {
      "cell_type": "markdown",
      "metadata": {
        "id": "-r4Czcrw0e5D"
      },
      "source": [
        "# 12. Perform prediction on the test set and print the mean_squared_log_error "
      ]
    },
    {
      "cell_type": "code",
      "metadata": {
        "id": "8lcTKEqBpSc_"
      },
      "source": [
        "pred = rf_model.predict(df_test)"
      ],
      "execution_count": null,
      "outputs": []
    },
    {
      "cell_type": "code",
      "metadata": {
        "colab": {
          "base_uri": "https://localhost:8080/"
        },
        "id": "2A4PtSS1YbyQ",
        "outputId": "945b441f-5297-407a-8ef2-07dad70eccd8"
      },
      "source": [
        "print(pred.shape)\n",
        "print(test_label.shape)"
      ],
      "execution_count": null,
      "outputs": [
        {
          "output_type": "stream",
          "name": "stdout",
          "text": [
            "(2178,)\n",
            "(2178, 1)\n"
          ]
        }
      ]
    },
    {
      "cell_type": "code",
      "metadata": {
        "id": "fL4kCGpGYhRP"
      },
      "source": [
        "test_array = test_label.values.reshape(test_label.shape[0])"
      ],
      "execution_count": null,
      "outputs": []
    },
    {
      "cell_type": "code",
      "metadata": {
        "colab": {
          "base_uri": "https://localhost:8080/"
        },
        "id": "v6Wf8l6bY3zC",
        "outputId": "8bc444b3-599c-47c1-abde-293d8fb2dc7d"
      },
      "source": [
        "test_array.shape"
      ],
      "execution_count": null,
      "outputs": [
        {
          "output_type": "execute_result",
          "data": {
            "text/plain": [
              "(2178,)"
            ]
          },
          "metadata": {},
          "execution_count": 49
        }
      ]
    },
    {
      "cell_type": "code",
      "metadata": {
        "colab": {
          "base_uri": "https://localhost:8080/"
        },
        "id": "_D58StEymOdb",
        "outputId": "687fc415-f532-4b0e-f4f2-8cd21d3ab029"
      },
      "source": [
        "df = pd.DataFrame(y_pred)\n",
        "print(\"RMSLE: \", np.sqrt(mean_squared_log_error(test_array, y_pred)))"
      ],
      "execution_count": null,
      "outputs": [
        {
          "output_type": "stream",
          "name": "stdout",
          "text": [
            "RMSLE:  0.864928451207823\n"
          ]
        }
      ]
    }
  ]
}